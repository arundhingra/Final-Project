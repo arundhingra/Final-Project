{
 "cells": [
  {
   "cell_type": "code",
   "execution_count": null,
   "metadata": {},
   "outputs": [],
   "source": [
    "!pip3 install plotly\n",
    "import pandas as pd\n",
    "import matplotlib.pyplot as plt\n",
    "import numpy as np\n",
    "from sklearn.linear_model import LinearRegression\n",
    "from numpy import exp\n",
    "import numpy as np\n",
    "import seaborn as sns\n",
    "import re\n",
    "import matplotlib.pyplot as plt\n",
    "import plotly\n",
    "import plotly.graph_objs as go\n",
    "import plotly.offline as offline\n",
    "from plotly.graph_objs import *\n",
    "from plotly.offline import download_plotlyjs, init_notebook_mode, plot, iplot\n",
    "import warnings\n",
    "warnings.simplefilter('ignore')"
   ]
  },
  {
   "cell_type": "code",
   "execution_count": null,
   "metadata": {},
   "outputs": [],
   "source": [
    "init_notebook_mode(connected=False)"
   ]
  },
  {
   "cell_type": "code",
   "execution_count": null,
   "metadata": {},
   "outputs": [],
   "source": [
    "winners = {\n",
    "    'democrat': [1976, 1992, 1996, 2008, 2012],\n",
    "    'republican': [1980, 1984, 1988, 2000, 2004, 2016]\n",
    "}\n",
    "parties = ['democrat', 'republican']"
   ]
  },
  {
   "cell_type": "code",
   "execution_count": null,
   "metadata": {},
   "outputs": [],
   "source": [
    "pop_cand = pd.read_csv(\"1976-2016-president.csv\")\n",
    "pop_cand = pop_cand[pop_cand['writein'] == False]\n",
    "pop_cand = pop_cand.drop(columns=['office','version', 'notes', 'state_cen', 'state_ic', 'writein'], axis=0)\n",
    "pop_cand = pop_cand.dropna(axis=0)\n",
    "pop_cand.head(20)"
   ]
  },
  {
   "cell_type": "code",
   "execution_count": null,
   "metadata": {},
   "outputs": [],
   "source": [
    "years = pop_cand.groupby(['party'], as_index=False).agg({'candidatevotes': 'sum'})\n",
    "years = years.sort_values(by = ['candidatevotes'], ascending=False).head(4)\n",
    "fig, ax = plt.subplots()\n",
    "ax.pie(years['candidatevotes'], labels = years['party'], autopct = \"%f\")\n",
    "ax.axis('equal')\n",
    "plt.show()"
   ]
  },
  {
   "cell_type": "code",
   "execution_count": null,
   "metadata": {},
   "outputs": [],
   "source": [
    "pop_cand = pop_cand[pop_cand['party'].isin(parties)]"
   ]
  },
  {
   "cell_type": "code",
   "execution_count": null,
   "metadata": {},
   "outputs": [],
   "source": [
    "fips = {\"01\": \"Alabama\",\n",
    "        \"02\": \"Alaska\",\n",
    "        \"04\": \"Arizona\",\n",
    "        \"05\": \"Arkansas\",\n",
    "        \"06\": \"California\",\n",
    "        \"08\": \"Colorado\",\n",
    "        \"09\": \"Connecticut\",\n",
    "        \"10\": \"Delaware\",\n",
    "        \"11\": \"District of Columbia\",\n",
    "        \"12\": \"Florida\",\n",
    "        \"13\": \"Georgia\",\n",
    "        \"15\": \"Hawaii\",\n",
    "        \"16\": \"Idaho\",\n",
    "        \"17\": \"Illinois\",\n",
    "        \"18\": \"Indiana\",\n",
    "        \"19\": \"Iowa\",\n",
    "        \"20\": \"Kansas\",\n",
    "        \"21\": \"Kentucky\",\n",
    "        \"22\": \"Louisiana\",\n",
    "        \"23\": \"Maine\",\n",
    "        \"24\": \"Maryland\",\n",
    "        \"25\": \"Massachusetts\",\n",
    "        \"26\": \"Michigan\",\n",
    "        \"27\": \"Minnesota\",\n",
    "        \"28\": \"Mississippi\",\n",
    "        \"29\": \"Missouri\",\n",
    "        \"30\": \"Montana\",\n",
    "        \"31\": \"Nebraska\",\n",
    "        \"32\": \"Nevada\",\n",
    "        \"33\": \"New Hampshire\",\n",
    "        \"34\": \"New Jersey\",\n",
    "        \"35\": \"New Mexico\",\n",
    "        \"36\": \"New York\",\n",
    "        \"37\": \"North Carolina\",\n",
    "        \"38\": \"North Dakota\",\n",
    "        \"39\": \"Ohio\",\n",
    "        \"40\": \"Oklahoma\",\n",
    "        \"41\": \"Oregon\",\n",
    "        \"42\": \"Pennsylvania\",\n",
    "        \"44\": \"Rhode Island\",\n",
    "        \"45\": \"South Carolina\",\n",
    "        \"46\": \"South Dakota\",\n",
    "        \"47\": \"Tennessee\",\n",
    "        \"48\": \"Texas\",\n",
    "        \"49\": \"Utah\",\n",
    "        \"50\": \"Vermont\",\n",
    "        \"51\": \"Virginia\",\n",
    "        \"53\": \"Washington\",\n",
    "        \"54\": \"West Virginia\",\n",
    "        \"55\": \"Wisconsin\",\n",
    "        \"56\": \"Wyoming\"\n",
    "       }\n",
    "us_state_abbrev = {\n",
    "    'Alabama': 'AL',\n",
    "    'Alaska': 'AK',\n",
    "    'American Samoa': 'AS',\n",
    "    'Arizona': 'AZ',\n",
    "    'Arkansas': 'AR',\n",
    "    'California': 'CA',\n",
    "    'Colorado': 'CO',\n",
    "    'Connecticut': 'CT',\n",
    "    'Delaware': 'DE',\n",
    "    'District of Columbia': 'DC',\n",
    "    'Florida': 'FL',\n",
    "    'Georgia': 'GA',\n",
    "    'Guam': 'GU',\n",
    "    'Hawaii': 'HI',\n",
    "    'Idaho': 'ID',\n",
    "    'Illinois': 'IL',\n",
    "    'Indiana': 'IN',\n",
    "    'Iowa': 'IA',\n",
    "    'Kansas': 'KS',\n",
    "    'Kentucky': 'KY',\n",
    "    'Louisiana': 'LA',\n",
    "    'Maine': 'ME',\n",
    "    'Maryland': 'MD',\n",
    "    'Massachusetts': 'MA',\n",
    "    'Michigan': 'MI',\n",
    "    'Minnesota': 'MN',\n",
    "    'Mississippi': 'MS',\n",
    "    'Missouri': 'MO',\n",
    "    'Montana': 'MT',\n",
    "    'Nebraska': 'NE',\n",
    "    'Nevada': 'NV',\n",
    "    'New Hampshire': 'NH',\n",
    "    'New Jersey': 'NJ',\n",
    "    'New Mexico': 'NM',\n",
    "    'New York': 'NY',\n",
    "    'North Carolina': 'NC',\n",
    "    'North Dakota': 'ND',\n",
    "    'Northern Mariana Islands':'MP',\n",
    "    'Ohio': 'OH',\n",
    "    'Oklahoma': 'OK',\n",
    "    'Oregon': 'OR',\n",
    "    'Pennsylvania': 'PA',\n",
    "    'Puerto Rico': 'PR',\n",
    "    'Rhode Island': 'RI',\n",
    "    'South Carolina': 'SC',\n",
    "    'South Dakota': 'SD',\n",
    "    'Tennessee': 'TN',\n",
    "    'Texas': 'TX',\n",
    "    'Utah': 'UT',\n",
    "    'Vermont': 'VT',\n",
    "    'Virgin Islands': 'VI',\n",
    "    'Virginia': 'VA',\n",
    "    'Washington': 'WA',\n",
    "    'West Virginia': 'WV',\n",
    "    'Wisconsin': 'WI',\n",
    "    'Wyoming': 'WY'\n",
    "}\n",
    "states = {\n",
    "        'AK': 'Other',\n",
    "        'AL': 'South',\n",
    "        'AR': 'South',\n",
    "        'AZ': 'West',\n",
    "        'CA': 'West',\n",
    "        'CO': 'West',\n",
    "        'CT': 'NorthEast',\n",
    "        'DC': 'NorthEast',\n",
    "        'DE': 'NorthEast',\n",
    "        'FL': 'South',\n",
    "        'GA': 'South',\n",
    "        'HI': 'Other',\n",
    "        'IA': 'MidWest',\n",
    "        'ID': 'West',\n",
    "        'IL': 'MidWest',\n",
    "        'IN': 'MidWest',\n",
    "        'KS': 'MidWest',\n",
    "        'KY': 'South',\n",
    "        'LA': 'South',\n",
    "        'MA': 'NorthEast',\n",
    "        'MD': 'NorthEast',\n",
    "        'ME': 'NorthEast',\n",
    "        'MI': 'West',\n",
    "        'MN': 'MidWest',\n",
    "        'MO': 'MidWest',\n",
    "        'MS': 'South',\n",
    "        'MT': 'West',\n",
    "        'NC': 'South',\n",
    "        'ND': 'MidWest',\n",
    "        'NE': 'West',\n",
    "        'NH': 'NorthEast',\n",
    "        'NJ': 'NorthEast',\n",
    "        'NM': 'West',\n",
    "        'NV': 'West',\n",
    "        'NY': 'NorthEast',\n",
    "        'OH': 'MidWest',\n",
    "        'OK': 'South',\n",
    "        'OR': 'West',\n",
    "        'PA': 'NorthEast',\n",
    "        'RI': 'NorthEast',\n",
    "        'SC': 'South',\n",
    "        'SD': 'MidWest',\n",
    "        'TN': 'South',\n",
    "        'TX': 'South',\n",
    "        'UT': 'West',\n",
    "        'VA': 'South',\n",
    "        'VT': 'NorthEast',\n",
    "        'WA': 'West',\n",
    "        'WI': 'MidWest',\n",
    "        'WV': 'South',\n",
    "        'WY': 'West'\n",
    "}\n",
    "def fips_to_state(fips_id):\n",
    "    fips_id = fips_id[:2]\n",
    "    return fips[fips_id] if fips_id in fips else 'NaN'"
   ]
  },
  {
   "cell_type": "code",
   "execution_count": null,
   "metadata": {},
   "outputs": [],
   "source": [
    "race1980s = pd.read_excel(\"race-1980s.xls\")\n",
    "race1980s.columns = race1980s.iloc[0]\n",
    "race1980s = race1980s[1:]\n",
    "race1980s['gender'] = race1980s['Race/Sex Indicator'].apply(lambda x: 'Female' if 'female' in x else 'Male')\n",
    "race1980s['Race/Sex Indicator'] = race1980s['Race/Sex Indicator'].apply(lambda x: x.split()[0])"
   ]
  },
  {
   "cell_type": "code",
   "execution_count": null,
   "metadata": {},
   "outputs": [],
   "source": [
    "cols = list(race1980s.columns[3:-1])\n",
    "race1980s['total'] = race1980s[cols].sum(1)\n",
    "race1980s = race1980s.drop(cols, 1)\n",
    "race1980s['FIPS State and County Codes'] = race1980s.apply(lambda x: fips_to_state(x['FIPS State and County Codes']), axis =1)\n",
    "race1980s.columns = ['year', 'state', 'race', 'gender', 'total']"
   ]
  },
  {
   "cell_type": "code",
   "execution_count": null,
   "metadata": {},
   "outputs": [],
   "source": [
    "race1980s = race1980s[race1980s['state'] != 'NaN']\n",
    "race1980s = race1980s.groupby(['year', 'state', 'race', 'gender'], as_index=False).agg({'total': 'sum'})\n",
    "race1980s"
   ]
  },
  {
   "cell_type": "code",
   "execution_count": null,
   "metadata": {},
   "outputs": [],
   "source": [
    "race1970s = pd.read_excel('race-1970s.xlsx')\n",
    "race1970s.columns = race1970s.iloc[0]\n",
    "race1970s = race1970s[1:]\n",
    "race1970s = race1970s.drop('FIPS State Code', axis = 1)\n",
    "race1970s = race1970s[(race1970s['Year of Estimate'] == '1976')]\n",
    "race1970s['gender'] = race1970s['Race/Sex Indicator'].apply(lambda x: 'Female' if 'female' in x else 'Male')\n",
    "race1970s['Race/Sex Indicator'] = race1970s['Race/Sex Indicator'].apply(lambda x: x.split()[0])\n",
    "race1970s['Year of Estimate'] = race1970s['Year of Estimate'].apply(lambda x: int(x))"
   ]
  },
  {
   "cell_type": "code",
   "execution_count": null,
   "metadata": {},
   "outputs": [],
   "source": [
    "cols = list(race1970s.columns[3:-1])\n",
    "race1970s['total'] = race1970s[cols].sum(1)\n",
    "race1970s = race1970s.drop(cols, 1)\n",
    "race1970s.columns = ['year', 'state', 'race', 'gender', 'total']"
   ]
  },
  {
   "cell_type": "code",
   "execution_count": null,
   "metadata": {},
   "outputs": [],
   "source": [
    "race1970s"
   ]
  },
  {
   "cell_type": "code",
   "execution_count": null,
   "metadata": {},
   "outputs": [],
   "source": [
    "race1992 = pd.read_excel('race-1990s-present.xls')\n",
    "race1992 = race1992[race1992['Notes'] != 'Total']\n",
    "race1992 = race1992.drop(['Notes', 'Yearly July 1st Estimates Code', 'State Code', 'Race Code', 'Gender Code'], axis=1)\n",
    "race1992 = race1992.dropna()\n",
    "race1992"
   ]
  },
  {
   "cell_type": "code",
   "execution_count": null,
   "metadata": {},
   "outputs": [],
   "source": [
    "race1992['Race'] = race1992['Race'].apply(lambda x: x if 'Indian' not in x and 'Asian' not in x else 'Other')\n",
    "race1992['Race'] = race1992['Race'].apply(lambda x: x if 'American' not in x else 'Black')\n",
    "race1992.columns = ['state', 'gender', 'race', 'year', 'total']\n",
    "race1992 = race1992.groupby(['year', 'state', 'race', 'gender'], as_index = False).agg({'total': 'sum'})\n",
    "race1992"
   ]
  },
  {
   "cell_type": "code",
   "execution_count": null,
   "metadata": {},
   "outputs": [],
   "source": [
    "socioeconomic = pd.concat([race1970s, race1980s, race1992], ignore_index = True)\n",
    "socioeconomic"
   ]
  },
  {
   "cell_type": "code",
   "execution_count": null,
   "metadata": {},
   "outputs": [],
   "source": [
    "poverty = pd.read_excel(\"poverty-by-state.xlsx\")\n",
    "poverty.columns = ['state', 'year', 'total', 'poor', 'percent']\n",
    "poverty = poverty[1:]\n",
    "poverty['percent'] = poverty['percent'] / 100\n",
    "poverty"
   ]
  },
  {
   "cell_type": "code",
   "execution_count": null,
   "metadata": {},
   "outputs": [],
   "source": [
    "state_voted_for = pop_cand.copy(deep = True)\n",
    "state_voted_for = state_voted_for.groupby(['year', 'state']).agg({'candidatevotes': 'max', 'party': 'first'}).reset_index().drop('candidatevotes', axis=1)"
   ]
  },
  {
   "cell_type": "code",
   "execution_count": null,
   "metadata": {},
   "outputs": [],
   "source": [
    "socioeconomic['ragender'] = socioeconomic['race'] + socioeconomic['gender']\n",
    "socioeconomic = socioeconomic.drop(['race', 'gender'], axis = 1)"
   ]
  },
  {
   "cell_type": "code",
   "execution_count": null,
   "metadata": {},
   "outputs": [],
   "source": [
    "socioeconomic = socioeconomic.pivot(columns = ['ragender'], values = ['total'], index = ['year', 'state'])\n",
    "socioeconomic = socioeconomic.reset_index(level = [0, 1])\n",
    "socioeconomic.columns = socioeconomic.columns.map(''.join)\n",
    "socioeconomic.columns = ['year', 'state', 'BlackFemale', 'BlackMale', 'OtherFemale', 'OtherMale', 'WhiteFemale', 'WhiteMale']\n",
    "socioeconomic"
   ]
  },
  {
   "cell_type": "code",
   "execution_count": null,
   "metadata": {},
   "outputs": [],
   "source": [
    "socioeconomic = socioeconomic.merge(state_voted_for, on = ['year', 'state'])"
   ]
  },
  {
   "cell_type": "code",
   "execution_count": null,
   "metadata": {},
   "outputs": [],
   "source": [
    "socioeconomic['candidatedummy'] = socioeconomic['party'].apply(lambda x: 0 if x == 'democrat' else 1)"
   ]
  },
  {
   "cell_type": "code",
   "execution_count": null,
   "metadata": {},
   "outputs": [],
   "source": [
    "poverty.columns = ['state', 'year', 'total_families', 'poor_families', 'percent']\n",
    "socioeconomic = socioeconomic.merge(poverty, on=['state', 'year'])\n",
    "socioeconomic"
   ]
  },
  {
   "cell_type": "code",
   "execution_count": null,
   "metadata": {},
   "outputs": [],
   "source": [
    "# Show distribution of votes by state\n",
    "parties = ['democrat', 'republican']\n",
    "misleading = pop_cand.copy(deep=True)\n",
    "misleading = misleading[misleading['party'].isin(parties)]"
   ]
  },
  {
   "cell_type": "code",
   "execution_count": null,
   "metadata": {},
   "outputs": [],
   "source": [
    "outcomes = []\n",
    "for index, row in misleading.iterrows():\n",
    "    if row['year'] in winners[row['party']]:\n",
    "        outcomes.append('W')\n",
    "    else:\n",
    "        outcomes.append('L')\n",
    "misleading['outcome'] = outcomes\n",
    "misleading = misleading[misleading['outcome'] == 'W']\n",
    "misleading = misleading.drop('outcome', axis=1)\n",
    "misleading['win_prop'] = misleading['candidatevotes']/misleading['totalvotes']\n",
    "misleading"
   ]
  },
  {
   "cell_type": "code",
   "execution_count": null,
   "metadata": {},
   "outputs": [],
   "source": [
    "fig, ax = plt.subplots(figsize=(10,5))\n",
    "ax.scatter(misleading['year'], misleading['win_prop'])"
   ]
  },
  {
   "cell_type": "code",
   "execution_count": null,
   "metadata": {},
   "outputs": [],
   "source": [
    "# More centered in earlier years, but states differ by a lot in the future; mention outliers\n",
    "sns.violinplot(x = misleading['year'], y = misleading['win_prop'])"
   ]
  },
  {
   "cell_type": "code",
   "execution_count": null,
   "metadata": {},
   "outputs": [],
   "source": [
    "# Standardize win_proportion\n",
    "standardize = misleading.groupby('year', as_index = False).agg({'year': 'first', 'win_prop': ['mean', 'std']})\n",
    "standardize.columns = standardize.columns.map('|'.join).str.strip('|')\n",
    "standardize"
   ]
  },
  {
   "cell_type": "code",
   "execution_count": null,
   "metadata": {},
   "outputs": [],
   "source": [
    "stand_win_prop = []\n",
    "outliers = []\n",
    "for index, row in misleading.iterrows():\n",
    "    election_year = standardize[standardize['year|first'] == row['year']]\n",
    "    mean = float(election_year['win_prop|mean'])\n",
    "    std = float(election_year['win_prop|std'])\n",
    "    calc = (row['win_prop'] - mean)/std\n",
    "    stand_win_prop.append(calc)\n",
    "misleading['stand_win_prop'] = stand_win_prop\n",
    "misleading"
   ]
  },
  {
   "cell_type": "code",
   "execution_count": null,
   "metadata": {},
   "outputs": [],
   "source": [
    "outliers = misleading[(misleading['stand_win_prop'] < -2) | (misleading['stand_win_prop'] > 2)]\n",
    "outliers"
   ]
  },
  {
   "cell_type": "code",
   "execution_count": null,
   "metadata": {},
   "outputs": [],
   "source": [
    "# In general, there is very little deviation between candidates, and the outliers are relatively consistent\n",
    "plt.figure()\n",
    "sns.boxplot(x=misleading['stand_win_prop'])\n",
    "plt.show()\n",
    "plt.close()"
   ]
  },
  {
   "cell_type": "code",
   "execution_count": null,
   "metadata": {},
   "outputs": [],
   "source": [
    "sns.violinplot(x= misleading['year'], y= misleading['stand_win_prop'])"
   ]
  },
  {
   "cell_type": "code",
   "execution_count": null,
   "metadata": {},
   "outputs": [],
   "source": [
    "# Which party has been represented the most?\n",
    "agg_scheme = {\n",
    "    'candidatevotes': 'max', \n",
    "    'candidate': 'first', \n",
    "    'party': 'first',\n",
    "    'win_prop': 'first'\n",
    "}\n",
    "wins = pop_cand.copy(deep=True)\n",
    "wins = wins[wins['party'].isin(parties)]\n",
    "wins['win_prop'] = wins['candidatevotes'] / wins['totalvotes']\n",
    "wins = wins.groupby(['year', 'state']).agg(agg_scheme).reset_index(level=(0,1)).drop('candidatevotes', axis=1)\n",
    "wins"
   ]
  },
  {
   "cell_type": "code",
   "execution_count": null,
   "metadata": {},
   "outputs": [],
   "source": [
    "def dummy(party):\n",
    "    return 1 if party == 'democrat' else 0\n",
    "wins['dummy'] = wins['party'].apply(dummy)\n",
    "wins"
   ]
  },
  {
   "cell_type": "code",
   "execution_count": null,
   "metadata": {},
   "outputs": [],
   "source": [
    "wins_by_state = wins.groupby('state').agg({'dummy': 'sum'}).reset_index()\n",
    "wins_by_state['dummy'] = wins_by_state['dummy'] / 11"
   ]
  },
  {
   "cell_type": "code",
   "execution_count": null,
   "metadata": {},
   "outputs": [],
   "source": [
    "# Biased towards republicans, this makes sense becxause the election year data consisted of republican winners\n",
    "plt.figure()\n",
    "sns.boxplot(x = wins_by_state['dummy'])\n",
    "plt.show()\n",
    "plt.close()"
   ]
  },
  {
   "cell_type": "code",
   "execution_count": null,
   "metadata": {},
   "outputs": [],
   "source": [
    "fig, ax = plt.subplots(figsize=(10,10))\n",
    "ax = sns.boxplot(x='year', y='stand_win_prop', data=misleading)\n",
    "ax.axes.set_title(\"Win proportion over Time\", fontsize=15)\n",
    "ax.set_xlabel(\"Year\", fontsize=15)\n",
    "ax.set_ylabel(\"Standardized Win Proportion\", fontsize=15)"
   ]
  },
  {
   "cell_type": "code",
   "execution_count": null,
   "metadata": {},
   "outputs": [],
   "source": [
    "# This has been based off of popular vote, however, how about the electoral college?\n",
    "electoral = pd.read_excel(\"electoral-dist-1900-2016.xlsx\")"
   ]
  },
  {
   "cell_type": "code",
   "execution_count": null,
   "metadata": {},
   "outputs": [],
   "source": [
    "state = []\n",
    "years = []\n",
    "votes = []\n",
    "merge_electoral = pd.DataFrame()\n",
    "for index, row in electoral.iterrows():\n",
    "    for year in np.arange(1900, 2021, 4):\n",
    "        years.append(year)\n",
    "        state.append(row['year'])\n",
    "        votes.append(row[year])\n",
    "merge_electoral['state'] = state\n",
    "merge_electoral['year'] = years\n",
    "merge_electoral['votes'] = votes\n",
    "merge_electoral"
   ]
  },
  {
   "cell_type": "code",
   "execution_count": null,
   "metadata": {},
   "outputs": [],
   "source": [
    "def win(party, year, vote):\n",
    "    if year in winners[party]:\n",
    "        return vote\n",
    "    else:\n",
    "        return 0\n",
    "agg_scheme = {\n",
    "    'candidatevotes': 'max', \n",
    "    'votes': 'first',\n",
    "    'totalvotes': 'first',\n",
    "    'party': 'first'\n",
    "}\n",
    "wins_by_state = pop_cand.copy(deep=True)\n",
    "wins_by_state = wins_by_state.merge(merge_electoral, on=['state', 'year'])\n",
    "wins_by_state = wins_by_state[wins_by_state['party'].isin(parties)]\n",
    "wins_by_state = wins_by_state.groupby(['year', 'state']).agg(agg_scheme).reset_index()\n",
    "wins_by_state"
   ]
  },
  {
   "cell_type": "code",
   "execution_count": null,
   "metadata": {},
   "outputs": [],
   "source": [
    "won_evotes = []\n",
    "for index, row in wins_by_state.iterrows():\n",
    "    won_evotes.append(win(row['party'], row['year'], row['votes']))\n",
    "wins_by_state['won_evotes'] = won_evotes\n",
    "wins_by_state['win_prop'] = wins_by_state['candidatevotes'] / wins_by_state['totalvotes'] \n",
    "wins_by_state['elec_prop'] = wins_by_state['votes'] / 538\n",
    "wins_by_state['expected_electoral'] = wins_by_state['win_prop'] * wins_by_state['votes']\n",
    "wins_by_state"
   ]
  },
  {
   "cell_type": "code",
   "execution_count": null,
   "metadata": {},
   "outputs": [],
   "source": [
    "agg_scheme = {\n",
    "    'won_evotes': 'sum', \n",
    "    'candidatevotes': 'sum', \n",
    "    'totalvotes': 'sum', \n",
    "    'expected_electoral': 'sum'\n",
    "}\n",
    "wins_by_year = wins_by_state.groupby(['year']).agg(agg_scheme).reset_index()\n",
    "wins_by_year['win_prop'] = wins_by_year['candidatevotes'] / wins_by_year['totalvotes'] \n",
    "wins_by_year['elec_prop'] = wins_by_year['won_evotes'] / 538\n",
    "wins_by_year = wins_by_year.drop(['totalvotes', 'candidatevotes'], axis=1)\n",
    "wins_by_year"
   ]
  },
  {
   "cell_type": "code",
   "execution_count": null,
   "metadata": {},
   "outputs": [],
   "source": [
    "fig, ax = plt.subplots(figsize=(7,5))\n",
    "ax.scatter(data=wins_by_year, x = 'win_prop', y = 'elec_prop')\n",
    "ax.set_xlabel('Popular Vote Proportion', fontsize=12)\n",
    "ax.set_ylabel('Electoral Vote Proportion', fontsize=12)\n",
    "ax.set_title('Popular Vote on Electoral Vote from 1976-2016', fontsize=15)"
   ]
  },
  {
   "cell_type": "code",
   "execution_count": null,
   "metadata": {},
   "outputs": [],
   "source": [
    "i = 0\n",
    "j = 0\n",
    "fig, ax = plt.subplots(nrows=4, ncols=3, sharex=True, sharey=True)\n",
    "fig.add_subplot(111, frameon=False)\n",
    "plt.tick_params(labelcolor='none', top=False, bottom=False, left=False, right=False)\n",
    "\n",
    "fig.set_figheight(20)\n",
    "fig.set_figwidth(20)\n",
    "fig.delaxes(ax[3][2])\n",
    "plt.xlabel('Win Proportion', fontsize=20)\n",
    "plt.ylabel('Electoral Votes', fontsize=20)\n",
    "for year in wins_by_state['year'].unique():\n",
    "    mini = wins_by_state[wins_by_state['year'] == year].reset_index()\n",
    "    winner = wins_by_year[wins_by_year['year'] == year].reset_index()\n",
    "    ax[i][j].scatter(mini['win_prop'], y = mini['votes'])\n",
    "    ax[i][j].set_title(f'{year}')\n",
    "    if i == 3:\n",
    "        j = j + 1\n",
    "        i = 0\n",
    "    else:\n",
    "        i = i + 1"
   ]
  },
  {
   "cell_type": "code",
   "execution_count": null,
   "metadata": {},
   "outputs": [],
   "source": [
    "def label(rects):\n",
    "    for rect in rects:\n",
    "        height = rect.get_height()\n",
    "        ax.annotate('{}'.format(height),\n",
    "                   xy=(rect.get_x() + .4, height),\n",
    "                   xytext=(0, 3),\n",
    "                   textcoords='offset points',\n",
    "                   ha='center', va='bottom')\n",
    "def tick_size(ticks):\n",
    "    for tick in ticks:\n",
    "        tick.label.set_fontsize(14)\n",
    "\n",
    "wins_by_year['round_exp'] = wins_by_year['expected_electoral'].apply(lambda x: int(x))\n",
    "wins_by_year['round_act'] = wins_by_year['won_evotes'].apply(lambda x: int(x))\n",
    "fig, ax = plt.subplots(figsize=(18,10))\n",
    "rep = ax.bar(x=wins_by_year['year'] - .5, height=wins_by_year['round_exp'], label='Representative')\n",
    "act = ax.bar(x=wins_by_year['year'] + .5, height=wins_by_year['round_act'], label='Actual')\n",
    "\n",
    "ax.set_xticks(ticks=np.arange(1976, 2017, 4))\n",
    "label(rep)\n",
    "label(act)\n",
    "tick_size(ax.xaxis.get_major_ticks())\n",
    "tick_size(ax.yaxis.get_major_ticks())\n",
    "ax.axhline(y=270, ls='--', c='black')\n",
    "\n",
    "ax.set_xlabel('Year', fontsize=17)\n",
    "ax.set_ylabel('Electoral Votes', fontsize=14)\n",
    "ax.set_title('Electoral Votes vs Representative Electoral Votes', fontsize=15)\n",
    "ax.legend(loc='upper right', fontsize=17)"
   ]
  },
  {
   "cell_type": "code",
   "execution_count": null,
   "metadata": {},
   "outputs": [],
   "source": [
    "soc_reg = wins_by_state[['year', 'state','win_prop']].merge(socioeconomic, on=['year','state'])"
   ]
  },
  {
   "cell_type": "code",
   "execution_count": null,
   "metadata": {},
   "outputs": [],
   "source": [
    "soc_reg['region'] = soc_reg['state'].apply(lambda x: states[us_state_abbrev[x]])\n",
    "soc_reg"
   ]
  },
  {
   "cell_type": "code",
   "execution_count": null,
   "metadata": {},
   "outputs": [],
   "source": [
    "agg_scheme = {\n",
    "    'BlackFemale': 'sum',\n",
    "    'BlackMale': 'sum',\n",
    "    'WhiteFemale': 'sum',\n",
    "    'WhiteMale': 'sum',\n",
    "    'OtherFemale': 'sum',\n",
    "    'OtherMale': 'sum'\n",
    "}\n",
    "soc_reg.groupby(['year', 'party'], as_index=False).agg(agg_scheme)"
   ]
  },
  {
   "cell_type": "code",
   "execution_count": null,
   "metadata": {},
   "outputs": [],
   "source": [
    "def split(group):\n",
    "    return re.sub(r\"(\\w)([A-Z])\", r\"\\1 \\2\", group)\n",
    "fig, ax = plt.subplots(nrows=3, ncols=2, figsize=(20,15))\n",
    "cols =[['WhiteFemale', 'WhiteMale'], ['BlackFemale', 'BlackMale'], ['OtherFemale', 'OtherMale']]\n",
    "i = 0\n",
    "j = 0\n",
    "while j < 2:\n",
    "    plot = sns.violinplot(ax=ax[i][j], x='year', y=cols[i][j], hue='party', data=soc_reg, split=True)\n",
    "    plot.set_title(f'Distribution of Votes for {split(cols[i][j])}s')\n",
    "    plot.set_xlabel('Year')\n",
    "    if i == 2:\n",
    "        i = 0\n",
    "        j = j + 1\n",
    "    else:\n",
    "        i = i + 1"
   ]
  },
  {
   "cell_type": "code",
   "execution_count": null,
   "metadata": {},
   "outputs": [],
   "source": []
  },
  {
   "cell_type": "code",
   "execution_count": null,
   "metadata": {},
   "outputs": [],
   "source": [
    "for i, row in wins_by_state.iterrows():\n",
    "    wins_by_state.loc[i, 'state_code'] = us_state_abbrev[row['state']]\n",
    "\n",
    "wins_by_state['party_class'] = list(map(lambda x: 0 if x == 'republican' else 1, wins_by_state['party']))\n",
    "wins_by_state = wins_by_state[(wins_by_state['state'] != 'District of Columbia')]\n",
    "\n",
    "wins_by_state['black_female'] = socioeconomic['BlackFemale']\n",
    "wins_by_state['black_male'] = socioeconomic['BlackMale']\n",
    "wins_by_state['other_female'] = socioeconomic['OtherFemale']\n",
    "wins_by_state['other_male'] = socioeconomic['OtherMale']\n",
    "wins_by_state['white_female'] = socioeconomic['WhiteFemale']\n",
    "wins_by_state['white_male'] = socioeconomic['WhiteMale']"
   ]
  },
  {
   "cell_type": "code",
   "execution_count": null,
   "metadata": {},
   "outputs": [],
   "source": [
    "wins_by_state"
   ]
  },
  {
   "cell_type": "code",
   "execution_count": null,
   "metadata": {},
   "outputs": [],
   "source": [
    "scl = [[0, '#e74c3c'],[1, '#2980b9']] "
   ]
  },
  {
   "cell_type": "code",
   "execution_count": null,
   "metadata": {},
   "outputs": [],
   "source": [
    "def plot_votes_map(arg):\n",
    "    data_slider = []\n",
    "    for year in wins_by_state.year.unique():\n",
    "        df = wins_by_state[(wins_by_state['year'] == year)]\n",
    "        df['text'] = df['votes']\n",
    "\n",
    "        by_year = dict(\n",
    "            type='choropleth',\n",
    "            locations=df['state_code'],\n",
    "            z=df[arg].astype(float),\n",
    "            locationmode='USA-states',\n",
    "            colorscale=scl,\n",
    "            text=df['text']\n",
    "        )\n",
    "\n",
    "        data_slider.append(by_year)\n",
    "    \n",
    "    steps = []\n",
    "    count = 0\n",
    "    count = 1976\n",
    "\n",
    "    for i in range(len(data_slider)):\n",
    "        step = dict(method='restyle',\n",
    "                    args=['visible', [False] * len(data_slider)],\n",
    "                    label='Year {}'.format(count) # label to be displayed for each step (year)\n",
    "                   ) \n",
    "        step['args'][1][i] = True\n",
    "        steps.append(step)\n",
    "        count += 4\n",
    "\n",
    "    sliders = [dict(active=10, pad={\"t\": 1}, steps=steps)]\n",
    "    \n",
    "    layout = dict(\n",
    "        geo=dict(scope='usa', projection={'type': 'albers usa'}),\n",
    "        sliders=sliders\n",
    "    )\n",
    "    \n",
    "    fig = dict(data=data_slider, layout=layout)\n",
    "    plotly.offline.iplot(fig, show_link=False)"
   ]
  },
  {
   "cell_type": "code",
   "execution_count": null,
   "metadata": {},
   "outputs": [],
   "source": [
    "plot_votes_map('party_class')"
   ]
  },
  {
   "cell_type": "code",
   "execution_count": null,
   "metadata": {},
   "outputs": [],
   "source": [
    "for i, row in pop_cand.iterrows():\n",
    "    pop_cand.loc[i, 'region'] = states[row['state_po']]"
   ]
  },
  {
   "cell_type": "code",
   "execution_count": null,
   "metadata": {},
   "outputs": [],
   "source": [
    "def plot_candidate_votes(data, arg=None):\n",
    "    fig, ax = plt.subplots(figsize=(16,10))\n",
    "    plot = sns.violinplot(x='year', y='candidatevotes', hue='party', data=data, split=True)\n",
    "    if arg:\n",
    "        plot.set_title(f'Distribution of Votes: {arg}')\n",
    "    else:\n",
    "        plot.set_title(f'Distribution of Votes')\n",
    "    plot.set_xlabel('Year')\n",
    "    plot.set_ylabel('Candidate Votes')"
   ]
  },
  {
   "cell_type": "code",
   "execution_count": null,
   "metadata": {},
   "outputs": [],
   "source": [
    "plot_candidate_votes(pop_cand)"
   ]
  },
  {
   "cell_type": "code",
   "execution_count": null,
   "metadata": {},
   "outputs": [],
   "source": [
    "south = pop_cand[pop_cand['region'] == 'South']\n",
    "mid_west = pop_cand[pop_cand['region'] == 'MidWest']\n",
    "north_east = pop_cand[pop_cand['region'] == 'NorthEast']\n",
    "west = pop_cand[pop_cand['region'] == 'West']\n",
    "other = pop_cand[pop_cand['region'] == 'Other']"
   ]
  },
  {
   "cell_type": "code",
   "execution_count": null,
   "metadata": {},
   "outputs": [],
   "source": [
    "plot_candidate_votes(south, \"South\")"
   ]
  },
  {
   "cell_type": "code",
   "execution_count": null,
   "metadata": {},
   "outputs": [],
   "source": [
    "plot_candidate_votes(mid_west, \"Mid West\")"
   ]
  },
  {
   "cell_type": "code",
   "execution_count": null,
   "metadata": {},
   "outputs": [],
   "source": [
    "plot_candidate_votes(north_east, \"North East\")"
   ]
  },
  {
   "cell_type": "code",
   "execution_count": null,
   "metadata": {},
   "outputs": [],
   "source": [
    "plot_candidate_votes(west, \"West\")"
   ]
  },
  {
   "cell_type": "code",
   "execution_count": null,
   "metadata": {},
   "outputs": [],
   "source": [
    "plot_candidate_votes(other, \"Other Regions\")"
   ]
  },
  {
   "cell_type": "code",
   "execution_count": null,
   "metadata": {},
   "outputs": [],
   "source": [
    "race_df = soc_reg\n",
    "race_df['black'] = race_df['BlackFemale'] + race_df['BlackMale']\n",
    "race_df['white'] = race_df['WhiteFemale'] + race_df['WhiteMale']\n",
    "race_df['other'] = race_df['OtherFemale'] + race_df['OtherMale']\n",
    "race_df = race_df.drop(columns=['candidatedummy', 'total_families', 'poor_families', 'BlackFemale', 'BlackMale', 'WhiteFemale', 'WhiteMale', 'OtherFemale', 'OtherMale'])\n",
    "race_df['party_class'] = list(map(lambda x: 0 if x == 'republican' else 1, race_df['party']))\n",
    "for i, row in race_df.iterrows():\n",
    "    race_df.loc[i, 'state_code'] = us_state_abbrev[row['state']]"
   ]
  },
  {
   "cell_type": "code",
   "execution_count": null,
   "metadata": {},
   "outputs": [],
   "source": [
    "race_df.nlargest(10, ['black'])"
   ]
  },
  {
   "cell_type": "code",
   "execution_count": null,
   "metadata": {},
   "outputs": [],
   "source": [
    "def plot_race_map(arg, r):\n",
    "    data_slider = []\n",
    "    for year in wins_by_state.year.unique():\n",
    "        df = race_df[(race_df['year'] == year)]\n",
    "        df = df.nlargest(10, [r])\n",
    "        df['text'] = df[r]\n",
    "\n",
    "        by_year = dict(\n",
    "            type='choropleth',\n",
    "            locations=df['state_code'],\n",
    "            z=df[arg].astype(float),\n",
    "            locationmode='USA-states',\n",
    "            colorscale=scl,\n",
    "            text=df['text']\n",
    "        )\n",
    "\n",
    "        data_slider.append(by_year)\n",
    "    \n",
    "    steps = []\n",
    "    count = 0\n",
    "    count = 1976\n",
    "\n",
    "    for i in range(len(data_slider)):\n",
    "        step = dict(method='restyle',\n",
    "                    args=['visible', [False] * len(data_slider)],\n",
    "                    label='Year {}'.format(count) # label to be displayed for each step (year)\n",
    "                   ) \n",
    "        step['args'][1][i] = True\n",
    "        steps.append(step)\n",
    "        count += 4\n",
    "\n",
    "    sliders = [dict(active=10, pad={\"t\": 1}, steps=steps)]\n",
    "    \n",
    "    layout = dict(\n",
    "        geo=dict(scope='usa', projection={'type': 'albers usa'}),\n",
    "        sliders=sliders\n",
    "    )\n",
    "    \n",
    "    fig = dict(data=data_slider, layout=layout)\n",
    "    plotly.offline.iplot(fig, show_link=False)"
   ]
  },
  {
   "cell_type": "code",
   "execution_count": null,
   "metadata": {},
   "outputs": [],
   "source": [
    "plot_race_map('party_class', 'black')"
   ]
  },
  {
   "cell_type": "code",
   "execution_count": null,
   "metadata": {},
   "outputs": [],
   "source": [
    "plot_race_map('party_class', 'white')"
   ]
  },
  {
   "cell_type": "code",
   "execution_count": null,
   "metadata": {},
   "outputs": [],
   "source": [
    "plot_race_map('party_class', 'other')"
   ]
  },
  {
   "cell_type": "code",
   "execution_count": null,
   "metadata": {},
   "outputs": [],
   "source": [
    "from sklearn.model_selection import train_test_split\n",
    "from sklearn.model_selection import cross_val_score\n",
    "from sklearn.tree import DecisionTreeClassifier"
   ]
  },
  {
   "cell_type": "code",
   "execution_count": null,
   "metadata": {},
   "outputs": [],
   "source": [
    "pop_2019 = pd.read_csv('raw_data_2019.csv')\n",
    "pop_2019 = pop_2019.head(50)\n",
    "pop_2019 = pop_2019.replace(np.nan, 0)\n",
    "pop_2019['other'] = pop_2019['Hispanic'] + pop_2019['Asian'] + pop_2019['American Indian/Alaska Native'] + \\\n",
    "                    pop_2019['Native Hawaiian/Other Pacific Islander'] + pop_2019['Multiple Races']\n",
    "pop_2019 = pop_2019.drop(columns=[\n",
    "    'Hispanic',\n",
    "    'Asian',\n",
    "    'American Indian/Alaska Native',\n",
    "    'Native Hawaiian/Other Pacific Islander',\n",
    "    'Multiple Races',\n",
    "    'Total'\n",
    "])\n",
    "pop_2019 = pop_2019.rename(columns={\n",
    "    'White': 'white',\n",
    "    'Black': 'black',\n",
    "    'Location': 'state'\n",
    "})\n",
    "pop_2019['region'] = pop_2019['state'].apply(lambda x: states[us_state_abbrev[x]])\n",
    "pop_2019"
   ]
  },
  {
   "cell_type": "code",
   "execution_count": null,
   "metadata": {},
   "outputs": [],
   "source": [
    "for i, row in pop_cand.iterrows():\n",
    "    pop_cand.loc[i, 'party_class'] = 0 if row['party'] == 'republican' else 1"
   ]
  },
  {
   "cell_type": "code",
   "execution_count": null,
   "metadata": {},
   "outputs": [],
   "source": [
    "data = soc_reg[soc_reg['state'] != 'District of Columbia']\n",
    "data = pd.get_dummies(data, columns=['state', 'region'], drop_first=True)\n",
    "data['black'] = data['BlackFemale'] + data['BlackMale']\n",
    "data['white'] = data['WhiteFemale'] + data['WhiteMale']\n",
    "data['other'] = data['OtherFemale'] + data['OtherMale']\n",
    "data = data.drop(columns=['year', 'party', 'total_families', 'poor_families', 'BlackFemale', 'BlackMale', 'WhiteFemale', 'WhiteMale', 'OtherFemale', 'OtherMale'])\n",
    "data = data.rename(columns={\n",
    "    'candidatedummy': 'party_class'\n",
    "})"
   ]
  },
  {
   "cell_type": "code",
   "execution_count": null,
   "metadata": {},
   "outputs": [],
   "source": [
    "X = data.drop(columns=['party_class', 'win_prop', 'percent'])\n",
    "y = np.array(data[\"party_class\"])"
   ]
  },
  {
   "cell_type": "code",
   "execution_count": null,
   "metadata": {},
   "outputs": [],
   "source": [
    "X_test = pd.get_dummies(pop_2019, columns=['state', 'region'], drop_first=True)\n",
    "clf = DecisionTreeClassifier(criterion=\"entropy\", random_state = 0).fit(X, y)\n",
    "tree_y_predicted = clf.predict(X_test)"
   ]
  },
  {
   "cell_type": "code",
   "execution_count": null,
   "metadata": {},
   "outputs": [],
   "source": [
    "tree_y_predicted"
   ]
  },
  {
   "cell_type": "code",
   "execution_count": null,
   "metadata": {},
   "outputs": [],
   "source": [
    "electoral_votes_2016 = wins_by_state[wins_by_state['year'] == 2016]\n",
    "electoral_votes_2016 = electoral_votes_2016.reset_index()"
   ]
  },
  {
   "cell_type": "code",
   "execution_count": null,
   "metadata": {},
   "outputs": [],
   "source": [
    "republican_votes = 0\n",
    "democrat_votes = 0\n",
    "\n",
    "for i in range(len(tree_y_predicted)):\n",
    "    if tree_y_predicted[i] == 0:\n",
    "        republican_votes += electoral_votes_2016.loc[i, 'votes']\n",
    "    else:\n",
    "        democrat_votes += electoral_votes_2016.loc[i, 'votes']\n",
    "    \n",
    "print(republican_votes, democrat_votes)"
   ]
  },
  {
   "cell_type": "code",
   "execution_count": null,
   "metadata": {},
   "outputs": [],
   "source": [
    "soc_reg['total_pop'] = soc_reg['black'] + soc_reg['white'] + soc_reg['other']"
   ]
  },
  {
   "cell_type": "code",
   "execution_count": null,
   "metadata": {},
   "outputs": [],
   "source": [
    "total_pop = wins_by_state\n",
    "total_pop['total_pop'] = soc_reg['total_pop']"
   ]
  },
  {
   "cell_type": "code",
   "execution_count": null,
   "metadata": {},
   "outputs": [],
   "source": [
    "total_pop['period_intervals'] = pd.cut(total_pop['year'], 5)\n",
    "total_pop"
   ]
  },
  {
   "cell_type": "code",
   "execution_count": null,
   "metadata": {},
   "outputs": [],
   "source": [
    "eight_year_average = pd.DataFrame({\n",
    "'average_pop': total_pop.groupby(['period_intervals', 'state'])['total_pop'].mean(),\n",
    "'average_evotes': total_pop.groupby(['period_intervals', 'state'])['votes'].mean()\n",
    "}).dropna().reset_index()\n"
   ]
  },
  {
   "cell_type": "code",
   "execution_count": null,
   "metadata": {},
   "outputs": [],
   "source": [
    "eight_year_average"
   ]
  },
  {
   "cell_type": "code",
   "execution_count": null,
   "metadata": {},
   "outputs": [],
   "source": [
    "lst = sorted(list(set(eight_year_average['period_intervals'])))\n",
    "lst"
   ]
  },
  {
   "cell_type": "code",
   "execution_count": null,
   "metadata": {},
   "outputs": [],
   "source": [
    "def plot_intervals(interval_num, year_range):\n",
    "    fig, ax = plt.subplots(figsize=(20, 15))\n",
    "    interval = eight_year_average[eight_year_average['period_intervals'] == lst[interval_num]]\n",
    "    \n",
    "    for i, row in interval.iterrows():\n",
    "        ax.plot(row['average_pop'], row['average_evotes'], 'o')\n",
    "        plt.annotate(row['state'], (row['average_pop'], row['average_evotes']))\n",
    "        \n",
    "    model = np.polyfit(interval['average_pop'], interval['average_evotes'], 1)\n",
    "    predict = np.poly1d(model)\n",
    "    x_lin_reg = list(interval['average_pop'])\n",
    "    y_lin_reg = predict(x_lin_reg)\n",
    "    plt.xlabel('Mean Population')\n",
    "    plt.ylabel('Electoral Votes')\n",
    "    plt.title(f'Electoral Votes: {year_range}')\n",
    "    plt.plot(x_lin_reg, y_lin_reg, c='black')\n",
    "    plt.show()"
   ]
  },
  {
   "cell_type": "code",
   "execution_count": null,
   "metadata": {},
   "outputs": [],
   "source": [
    "plot_intervals(0, '1976 - 1984')"
   ]
  },
  {
   "cell_type": "code",
   "execution_count": null,
   "metadata": {},
   "outputs": [],
   "source": [
    "plot_intervals(1, '1984 - 1992')"
   ]
  },
  {
   "cell_type": "code",
   "execution_count": null,
   "metadata": {},
   "outputs": [],
   "source": [
    "plot_intervals(2, '1992 - 2000')"
   ]
  },
  {
   "cell_type": "code",
   "execution_count": null,
   "metadata": {},
   "outputs": [],
   "source": [
    "plot_intervals(3, '2000 - 2008')"
   ]
  },
  {
   "cell_type": "code",
   "execution_count": null,
   "metadata": {},
   "outputs": [],
   "source": [
    "plot_intervals(4, '2008 - 2016')"
   ]
  },
  {
   "cell_type": "code",
   "execution_count": null,
   "metadata": {},
   "outputs": [],
   "source": []
  }
 ],
 "metadata": {
  "kernelspec": {
   "display_name": "Python 3",
   "language": "python",
   "name": "python3"
  },
  "language_info": {
   "codemirror_mode": {
    "name": "ipython",
    "version": 3
   },
   "file_extension": ".py",
   "mimetype": "text/x-python",
   "name": "python",
   "nbconvert_exporter": "python",
   "pygments_lexer": "ipython3",
   "version": "3.8.6"
  }
 },
 "nbformat": 4,
 "nbformat_minor": 4
}
