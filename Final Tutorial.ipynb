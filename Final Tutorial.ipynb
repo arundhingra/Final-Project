{
 "cells": [
  {
   "cell_type": "code",
   "execution_count": null,
   "metadata": {},
   "outputs": [],
   "source": [
    "!pip3 install plotly\n",
    "import pandas as pd\n",
    "import matplotlib.pyplot as plt\n",
    "import numpy as np\n",
    "from sklearn.linear_model import LinearRegression\n",
    "from numpy import exp\n",
    "import numpy as np\n",
    "from seaborn import violinplot, boxplot\n",
    "import matplotlib.pyplot as plt\n",
    "import plotly\n",
    "import plotly.graph_objs as go\n",
    "import plotly.offline as offline\n",
    "from plotly.graph_objs import *\n",
    "from plotly.offline import download_plotlyjs, init_notebook_mode, plot, iplot"
   ]
  },
  {
   "cell_type": "code",
   "execution_count": null,
   "metadata": {},
   "outputs": [],
   "source": [
    "init_notebook_mode(connected=False)"
   ]
  },
  {
   "cell_type": "code",
   "execution_count": null,
   "metadata": {},
   "outputs": [],
   "source": [
    "winners = {\n",
    "    'democrat': [1976, 1992, 1996, 2008, 2012],\n",
    "    'republican': [1980, 1984, 1988, 2000, 2004, 2016]\n",
    "}\n",
    "parties = ['democrat', 'republican']"
   ]
  },
  {
   "cell_type": "code",
   "execution_count": null,
   "metadata": {},
   "outputs": [],
   "source": [
    "pop_cand = pd.read_csv(\"1976-2016-president.csv\")\n",
    "pop_cand = pop_cand[pop_cand['writein'] == False]\n",
    "pop_cand = pop_cand.drop(columns=['office','version', 'notes', 'state_cen', 'state_ic', 'writein'], axis=0)\n",
    "pop_cand = pop_cand.dropna(axis=0)\n",
    "pop_cand.head(20)"
   ]
  },
  {
   "cell_type": "code",
   "execution_count": null,
   "metadata": {},
   "outputs": [],
   "source": [
    "years = pop_cand.groupby(['party'], as_index=False).agg({'candidatevotes': 'sum'})\n",
    "years = years.sort_values(by = ['candidatevotes'], ascending=False).head(4)\n",
    "fig, ax = plt.subplots()\n",
    "ax.pie(years['candidatevotes'], labels = years['party'], autopct = \"%f\")\n",
    "ax.axis('equal')\n",
    "plt.show()"
   ]
  },
  {
   "cell_type": "code",
   "execution_count": null,
   "metadata": {},
   "outputs": [],
   "source": [
    "pop_cand = pop_cand[pop_cand['party'].isin(parties)]"
   ]
  },
  {
   "cell_type": "code",
   "execution_count": null,
   "metadata": {},
   "outputs": [],
   "source": [
    "fips = {\"01\": \"Alabama\",\n",
    "        \"02\": \"Alaska\",\n",
    "        \"04\": \"Arizona\",\n",
    "        \"05\": \"Arkansas\",\n",
    "        \"06\": \"California\",\n",
    "        \"08\": \"Colorado\",\n",
    "        \"09\": \"Connecticut\",\n",
    "        \"10\": \"Delaware\",\n",
    "        \"12\": \"Florida\",\n",
    "        \"13\": \"Georgia\",\n",
    "        \"15\": \"Hawaii\",\n",
    "        \"16\": \"Idaho\",\n",
    "        \"17\": \"Illinois\",\n",
    "        \"18\": \"Indiana\",\n",
    "        \"19\": \"Iowa\",\n",
    "        \"20\": \"Kansas\",\n",
    "        \"21\": \"Kentucky\",\n",
    "        \"22\": \"Louisiana\",\n",
    "        \"23\": \"Maine\",\n",
    "        \"24\": \"Maryland\",\n",
    "        \"25\": \"Massachusetts\",\n",
    "        \"26\": \"Michigan\",\n",
    "        \"27\": \"Minnesota\",\n",
    "        \"28\": \"Mississippi\",\n",
    "        \"29\": \"Missouri\",\n",
    "        \"30\": \"Montana\",\n",
    "        \"31\": \"Nebraska\",\n",
    "        \"32\": \"Nevada\",\n",
    "        \"33\": \"New Hampshire\",\n",
    "        \"34\": \"New Jersey\",\n",
    "        \"35\": \"New Mexico\",\n",
    "        \"36\": \"New York\",\n",
    "        \"37\": \"North Carolina\",\n",
    "        \"38\": \"North Dakota\",\n",
    "        \"39\": \"Ohio\",\n",
    "        \"40\": \"Oklahoma\",\n",
    "        \"41\": \"Oregon\",\n",
    "        \"42\": \"Pennsylvania\",\n",
    "        \"44\": \"Rhode Island\",\n",
    "        \"45\": \"South Carolina\",\n",
    "        \"46\": \"South Dakota\",\n",
    "        \"47\": \"Tennessee\",\n",
    "        \"48\": \"Texas\",\n",
    "        \"49\": \"Utah\",\n",
    "        \"50\": \"Vermont\",\n",
    "        \"51\": \"Virginia\",\n",
    "        \"53\": \"Washington\",\n",
    "        \"54\": \"West Virginia\",\n",
    "        \"55\": \"Wisconsin\",\n",
    "        \"56\": \"Wyoming\"\n",
    "       }\n",
    "\n",
    "def fips_to_state(fips_id):\n",
    "    fips_id = fips_id[:2]\n",
    "    return fips[fips_id] if fips_id in fips else 'NaN'"
   ]
  },
  {
   "cell_type": "code",
   "execution_count": null,
   "metadata": {},
   "outputs": [],
   "source": [
    "race1980s = pd.read_excel(\"race-1980s.xls\")\n",
    "race1980s.columns = race1980s.iloc[0]\n",
    "race1980s = race1980s[1:]\n",
    "race1980s['gender'] = race1980s['Race/Sex Indicator'].apply(lambda x: 'Female' if 'female' in x else 'Male')\n",
    "race1980s['Race/Sex Indicator'] = race1980s['Race/Sex Indicator'].apply(lambda x: x.split()[0])"
   ]
  },
  {
   "cell_type": "code",
   "execution_count": null,
   "metadata": {},
   "outputs": [],
   "source": [
    "cols = list(race1980s.columns[3:-1])\n",
    "race1980s['total'] = race1980s[cols].sum(1)\n",
    "race1980s = race1980s.drop(cols, 1)\n",
    "race1980s['FIPS State and County Codes'] = race1980s.apply(lambda x: fips_to_state(x['FIPS State and County Codes']), axis =1)\n",
    "race1980s.columns = ['year', 'state', 'race', 'gender', 'total']"
   ]
  },
  {
   "cell_type": "code",
   "execution_count": null,
   "metadata": {},
   "outputs": [],
   "source": [
    "race1980s = race1980s[race1980s['state'] != 'NaN']\n",
    "race1980s = race1980s.groupby(['year', 'state', 'race', 'gender'], as_index=False).agg({'total': 'sum'})\n",
    "race1980s"
   ]
  },
  {
   "cell_type": "code",
   "execution_count": null,
   "metadata": {},
   "outputs": [],
   "source": [
    "race1970s = pd.read_excel('race-1970s.xlsx')\n",
    "race1970s.columns = race1970s.iloc[0]\n",
    "race1970s = race1970s[1:]\n",
    "race1970s = race1970s.drop('FIPS State Code', axis = 1)\n",
    "race1970s = race1970s[(race1970s['Year of Estimate'] == '1976') & (race1970s['State Name'] != 'District of Columbia')]\n",
    "race1970s['gender'] = race1970s['Race/Sex Indicator'].apply(lambda x: 'Female' if 'female' in x else 'Male')\n",
    "race1970s['Race/Sex Indicator'] = race1970s['Race/Sex Indicator'].apply(lambda x: x.split()[0])\n",
    "race1970s['Year of Estimate'] = race1970s['Year of Estimate'].apply(lambda x: int(x))"
   ]
  },
  {
   "cell_type": "code",
   "execution_count": null,
   "metadata": {},
   "outputs": [],
   "source": [
    "cols = list(race1970s.columns[3:-1])\n",
    "race1970s['total'] = race1970s[cols].sum(1)\n",
    "race1970s = race1970s.drop(cols, 1)\n",
    "race1970s.columns = ['year', 'state', 'race', 'gender', 'total']"
   ]
  },
  {
   "cell_type": "code",
   "execution_count": null,
   "metadata": {},
   "outputs": [],
   "source": [
    "race1970s"
   ]
  },
  {
   "cell_type": "code",
   "execution_count": null,
   "metadata": {},
   "outputs": [],
   "source": [
    "race1992 = pd.read_excel('race-1990s-present.xls')\n",
    "race1992 = race1992[race1992['Notes'] != 'Total']\n",
    "race1992 = race1992.drop(['Notes', 'Yearly July 1st Estimates Code', 'State Code', 'Race Code', 'Gender Code'], axis=1)"
   ]
  },
  {
   "cell_type": "code",
   "execution_count": null,
   "metadata": {},
   "outputs": [],
   "source": [
    "race1992['Race'] = race1992['Race'].apply(lambda x: x if 'Indian' not in x and 'Asian' not in x else 'Other')\n",
    "race1992['Race'] = race1992['Race'].apply(lambda x: x if 'American' not in x else 'Black')\n",
    "race1992.columns = ['year', 'state', 'race', 'gender', 'total']\n",
    "race1992 = race1992.groupby(['year', 'state', 'race', 'gender'], as_index = False).agg({'total': 'sum'})"
   ]
  },
  {
   "cell_type": "code",
   "execution_count": null,
   "metadata": {},
   "outputs": [],
   "source": [
    "race1992.head(10)"
   ]
  },
  {
   "cell_type": "code",
   "execution_count": null,
   "metadata": {},
   "outputs": [],
   "source": [
    "socioeconomic = pd.concat([race1970s, race1980s, race1992], ignore_index = True)\n",
    "socioeconomic"
   ]
  },
  {
   "cell_type": "code",
   "execution_count": null,
   "metadata": {},
   "outputs": [],
   "source": [
    "poverty = pd.read_excel(\"poverty-by-state.xlsx\")\n",
    "poverty.columns = ['state', 'year', 'total', 'poor', 'percent']\n",
    "poverty = poverty[1:]\n",
    "poverty"
   ]
  },
  {
   "cell_type": "code",
   "execution_count": null,
   "metadata": {},
   "outputs": [],
   "source": [
    "state_voted_for = pop_cand.copy(deep = True)\n",
    "state_voted_for = state_voted_for.groupby(['year', 'state']).agg({'candidatevotes': 'max', 'party': 'first'}).reset_index().drop('candidatevotes', axis=1)\n",
    "socioeconomic = state_voted_for.merge(socioeconomic, on=['state', 'year'])"
   ]
  },
  {
   "cell_type": "code",
   "execution_count": null,
   "metadata": {},
   "outputs": [],
   "source": [
    "socioeconomic"
   ]
  },
  {
   "cell_type": "code",
   "execution_count": null,
   "metadata": {},
   "outputs": [],
   "source": [
    "socioeconomic['ragender'] = socioeconomic['race'] + socioeconomic['gender']\n",
    "socioeconomic.drop(['race', 'gender'], axis = 1)"
   ]
  },
  {
   "cell_type": "code",
   "execution_count": null,
   "metadata": {},
   "outputs": [],
   "source": [
    "plotdf = socioeconomic.pivot(columns = ['ragender'], values = ['total'], index = ['year', 'state'])\n",
    "plotdf = plotdf.reset_index(level = [0, 1])\n",
    "plotdf.columns = plotdf.columns.map(''.join)\n",
    "plotdf.columns = ['year', 'state', 'BlackFemale', 'BlackMale', 'OtherFemale', 'OtherMale', 'WhiteFemale', 'WhiteMale']\n",
    "plotdf"
   ]
  },
  {
   "cell_type": "code",
   "execution_count": null,
   "metadata": {},
   "outputs": [],
   "source": [
    "plotdf = plotdf.merge(state_voted_for, on = ['year', 'state'])"
   ]
  },
  {
   "cell_type": "code",
   "execution_count": null,
   "metadata": {},
   "outputs": [],
   "source": [
    "plotdf['candidatedummy'] = plotdf['party'].apply(lambda x: 0 if x == 'democrat' else 1)"
   ]
  },
  {
   "cell_type": "code",
   "execution_count": null,
   "metadata": {},
   "outputs": [],
   "source": [
    "plotdf['sum'] = plotdf[plotdf.columns[2:8]].sum(axis=1)\n",
    "for column in plotdf.columns[2:8]:\n",
    "    plotdf[column] = plotdf[column] / plotdf['sum']\n",
    "plotdf = plotdf.drop('sum', axis = 1)"
   ]
  },
  {
   "cell_type": "code",
   "execution_count": null,
   "metadata": {},
   "outputs": [],
   "source": [
    "X = plotdf[['year', 'BlackFemale', 'BlackMale', 'OtherFemale', 'OtherMale', 'WhiteFemale', 'WhiteMale']]\n",
    "y = plotdf['candidatedummy']\n",
    "reg = LinearRegression().fit(X, y)"
   ]
  },
  {
   "cell_type": "code",
   "execution_count": null,
   "metadata": {},
   "outputs": [],
   "source": [
    "print(reg.coef_, reg.intercept_)"
   ]
  },
  {
   "cell_type": "code",
   "execution_count": null,
   "metadata": {},
   "outputs": [],
   "source": [
    "# Show distribution of votes by state\n",
    "parties = ['democrat', 'republican']\n",
    "misleading = pop_cand.copy(deep=True)\n",
    "misleading = misleading[misleading['party'].isin(parties)]"
   ]
  },
  {
   "cell_type": "code",
   "execution_count": null,
   "metadata": {},
   "outputs": [],
   "source": [
    "outcomes = []\n",
    "for index, row in misleading.iterrows():\n",
    "    if row['year'] in winners[row['party']]:\n",
    "        outcomes.append('W')\n",
    "    else:\n",
    "        outcomes.append('L')\n",
    "misleading['outcome'] = outcomes\n",
    "misleading = misleading[misleading['outcome'] == 'W']\n",
    "misleading = misleading.drop('outcome', axis=1)\n",
    "misleading['win_prop'] = misleading['candidatevotes']/misleading['totalvotes']\n",
    "misleading"
   ]
  },
  {
   "cell_type": "code",
   "execution_count": null,
   "metadata": {},
   "outputs": [],
   "source": [
    "fig, ax = plt.subplots(figsize=(10,5))\n",
    "ax.scatter(misleading['year'], misleading['win_prop'])"
   ]
  },
  {
   "cell_type": "code",
   "execution_count": null,
   "metadata": {},
   "outputs": [],
   "source": [
    "# More centered in earlier years, but states differ by a lot in the future; mention outliers\n",
    "violinplot(x = misleading['year'], y = misleading['win_prop'])"
   ]
  },
  {
   "cell_type": "code",
   "execution_count": null,
   "metadata": {},
   "outputs": [],
   "source": [
    "# Standardize win_proportion\n",
    "standardize = misleading.groupby('year', as_index = False).agg({'year': 'first', 'win_prop': ['mean', 'std']})\n",
    "standardize.columns = standardize.columns.map('|'.join).str.strip('|')\n",
    "standardize"
   ]
  },
  {
   "cell_type": "code",
   "execution_count": null,
   "metadata": {},
   "outputs": [],
   "source": [
    "stand_win_prop = []\n",
    "outliers = []\n",
    "for index, row in misleading.iterrows():\n",
    "    election_year = standardize[standardize['year|first'] == row['year']]\n",
    "    mean = float(election_year['win_prop|mean'])\n",
    "    std = float(election_year['win_prop|std'])\n",
    "    calc = (row['win_prop'] - mean)/std\n",
    "    stand_win_prop.append(calc)\n",
    "misleading['stand_win_prop'] = stand_win_prop\n",
    "misleading"
   ]
  },
  {
   "cell_type": "code",
   "execution_count": null,
   "metadata": {},
   "outputs": [],
   "source": [
    "outliers = misleading[(misleading['stand_win_prop'] < -2) | (misleading['stand_win_prop'] > 2)]\n",
    "outliers"
   ]
  },
  {
   "cell_type": "code",
   "execution_count": null,
   "metadata": {},
   "outputs": [],
   "source": [
    "# In general, there is very little deviation between candidates, and the outliers are relatively consistent\n",
    "plt.figure()\n",
    "boxplot(x=misleading['stand_win_prop'])\n",
    "plt.show()\n",
    "plt.close()"
   ]
  },
  {
   "cell_type": "code",
   "execution_count": null,
   "metadata": {},
   "outputs": [],
   "source": [
    "violinplot(x= misleading['year'], y= misleading['stand_win_prop'])"
   ]
  },
  {
   "cell_type": "code",
   "execution_count": null,
   "metadata": {},
   "outputs": [],
   "source": [
    "# Which party has been represented the most?\n",
    "agg_scheme = {\n",
    "    'candidatevotes': 'max', \n",
    "    'candidate': 'first', \n",
    "    'party': 'first',\n",
    "    'win_prop': 'first'\n",
    "}\n",
    "wins = pop_cand.copy(deep=True)\n",
    "wins = wins[wins['party'].isin(parties)]\n",
    "wins['win_prop'] = wins['candidatevotes'] / wins['totalvotes']\n",
    "wins = wins.groupby(['year', 'state']).agg(agg_scheme).reset_index(level=(0,1)).drop('candidatevotes', axis=1)\n",
    "wins"
   ]
  },
  {
   "cell_type": "code",
   "execution_count": null,
   "metadata": {},
   "outputs": [],
   "source": [
    "def dummy(party):\n",
    "    return 1 if party == 'democrat' else 0\n",
    "wins['dummy'] = wins['party'].apply(dummy)\n",
    "wins"
   ]
  },
  {
   "cell_type": "code",
   "execution_count": null,
   "metadata": {},
   "outputs": [],
   "source": [
    "wins_by_state = wins.groupby('state').agg({'dummy': 'sum'}).reset_index()\n",
    "wins_by_state['dummy'] = wins_by_state['dummy'] / 11"
   ]
  },
  {
   "cell_type": "code",
   "execution_count": null,
   "metadata": {},
   "outputs": [],
   "source": [
    "wins_by_state"
   ]
  },
  {
   "cell_type": "code",
   "execution_count": null,
   "metadata": {},
   "outputs": [],
   "source": [
    "# Biased towards republicans, this makes sense becxause the election year data consisted of republican winners\n",
    "plt.figure()\n",
    "boxplot(x = wins_by_state['dummy'])\n",
    "plt.show()\n",
    "plt.close()"
   ]
  },
  {
   "cell_type": "code",
   "execution_count": null,
   "metadata": {},
   "outputs": [],
   "source": [
    "# See if changes by year, only does slightly\n",
    "for year in wins['year'].unique():\n",
    "    wins_year = misleading[misleading['year'] == year]\n",
    "    plt.figure()\n",
    "    cand = str(wins_year['candidate'].unique()[0])\n",
    "    party = str(wins_year['party'].unique()[0])\n",
    "    boxplot(wins_year['stand_win_prop']).set_title(f'{cand} ({party}) in {year}')\n",
    "    plt.show()\n",
    "    plt.close()"
   ]
  },
  {
   "cell_type": "code",
   "execution_count": null,
   "metadata": {},
   "outputs": [],
   "source": [
    "# This has been based off of popular vote, however, how about the electoral college?\n",
    "electoral = pd.read_excel(\"electoral-dist-1900-2016.xlsx\")"
   ]
  },
  {
   "cell_type": "code",
   "execution_count": null,
   "metadata": {},
   "outputs": [],
   "source": [
    "state = []\n",
    "years = []\n",
    "votes = []\n",
    "merge_electoral = pd.DataFrame()\n",
    "for index, row in electoral.iterrows():\n",
    "    for year in np.arange(1900, 2021, 4):\n",
    "        years.append(year)\n",
    "        state.append(row['year'])\n",
    "        votes.append(row[year])\n",
    "merge_electoral['state'] = state\n",
    "merge_electoral['year'] = years\n",
    "merge_electoral['votes'] = votes\n",
    "merge_electoral"
   ]
  },
  {
   "cell_type": "code",
   "execution_count": null,
   "metadata": {},
   "outputs": [],
   "source": [
    "def win(party, year, vote):\n",
    "    if year in winners[party]:\n",
    "        return vote\n",
    "    else:\n",
    "        return 0\n",
    "agg_scheme = {\n",
    "    'candidatevotes': 'max', \n",
    "    'votes': 'first',\n",
    "    'totalvotes': 'first',\n",
    "    'party': 'first'\n",
    "}\n",
    "wins_by_state = pop_cand.copy(deep=True)\n",
    "wins_by_state = wins_by_state.merge(merge_electoral, on=['state', 'year'])\n",
    "wins_by_state = wins_by_state[wins_by_state['party'].isin(parties)]\n",
    "wins_by_state = wins_by_state.groupby(['year', 'state']).agg(agg_scheme).reset_index()\n",
    "wins_by_state"
   ]
  },
  {
   "cell_type": "code",
   "execution_count": null,
   "metadata": {},
   "outputs": [],
   "source": [
    "won_evotes = []\n",
    "for index, row in wins_by_state.iterrows():\n",
    "    won_evotes.append(win(row['party'], row['year'], row['votes']))\n",
    "wins_by_state['votes'] = won_evotes\n",
    "wins_by_state['win_prop'] = wins_by_state['candidatevotes'] / wins_by_state['totalvotes'] \n",
    "wins_by_state['elec_prop'] = wins_by_state['votes'] / 538\n",
    "wins_by_state"
   ]
  },
  {
   "cell_type": "code",
   "execution_count": null,
   "metadata": {},
   "outputs": [],
   "source": [
    "wins_by_year = wins_by_state.groupby(['year']).agg({'votes': 'sum', 'candidatevotes': 'sum', 'totalvotes': 'sum'})\n",
    "wins_by_year['win_prop'] = wins_by_year['candidatevotes'] / wins_by_year['totalvotes'] \n",
    "wins_by_year['elec_prop'] = wins_by_year['votes'] / 538\n",
    "wins_by_year = wins_by_year.drop(['totalvotes', 'candidatevotes'], axis=1)\n",
    "wins_by_year"
   ]
  },
  {
   "cell_type": "code",
   "execution_count": null,
   "metadata": {},
   "outputs": [],
   "source": [
    "# TODO: TRY TO MAKE BAR GRAPH\n",
    "wins_by_year.plot.scatter(x = 'win_prop', y = 'votes')\n",
    "# TODO: STANDARDIZE"
   ]
  },
  {
   "cell_type": "code",
   "execution_count": null,
   "metadata": {},
   "outputs": [],
   "source": [
    "wins_by_state.plot.scatter(x = 'win_prop', y = 'votes')"
   ]
  },
  {
   "cell_type": "code",
   "execution_count": null,
   "metadata": {},
   "outputs": [],
   "source": [
    "wins_by_state"
   ]
  },
  {
   "cell_type": "code",
   "execution_count": null,
   "metadata": {},
   "outputs": [],
   "source": [
    "us_state_abbrev = {\n",
    "    'Alabama': 'AL',\n",
    "    'Alaska': 'AK',\n",
    "    'American Samoa': 'AS',\n",
    "    'Arizona': 'AZ',\n",
    "    'Arkansas': 'AR',\n",
    "    'California': 'CA',\n",
    "    'Colorado': 'CO',\n",
    "    'Connecticut': 'CT',\n",
    "    'Delaware': 'DE',\n",
    "    'District of Columbia': 'DC',\n",
    "    'Florida': 'FL',\n",
    "    'Georgia': 'GA',\n",
    "    'Guam': 'GU',\n",
    "    'Hawaii': 'HI',\n",
    "    'Idaho': 'ID',\n",
    "    'Illinois': 'IL',\n",
    "    'Indiana': 'IN',\n",
    "    'Iowa': 'IA',\n",
    "    'Kansas': 'KS',\n",
    "    'Kentucky': 'KY',\n",
    "    'Louisiana': 'LA',\n",
    "    'Maine': 'ME',\n",
    "    'Maryland': 'MD',\n",
    "    'Massachusetts': 'MA',\n",
    "    'Michigan': 'MI',\n",
    "    'Minnesota': 'MN',\n",
    "    'Mississippi': 'MS',\n",
    "    'Missouri': 'MO',\n",
    "    'Montana': 'MT',\n",
    "    'Nebraska': 'NE',\n",
    "    'Nevada': 'NV',\n",
    "    'New Hampshire': 'NH',\n",
    "    'New Jersey': 'NJ',\n",
    "    'New Mexico': 'NM',\n",
    "    'New York': 'NY',\n",
    "    'North Carolina': 'NC',\n",
    "    'North Dakota': 'ND',\n",
    "    'Northern Mariana Islands':'MP',\n",
    "    'Ohio': 'OH',\n",
    "    'Oklahoma': 'OK',\n",
    "    'Oregon': 'OR',\n",
    "    'Pennsylvania': 'PA',\n",
    "    'Puerto Rico': 'PR',\n",
    "    'Rhode Island': 'RI',\n",
    "    'South Carolina': 'SC',\n",
    "    'South Dakota': 'SD',\n",
    "    'Tennessee': 'TN',\n",
    "    'Texas': 'TX',\n",
    "    'Utah': 'UT',\n",
    "    'Vermont': 'VT',\n",
    "    'Virgin Islands': 'VI',\n",
    "    'Virginia': 'VA',\n",
    "    'Washington': 'WA',\n",
    "    'West Virginia': 'WV',\n",
    "    'Wisconsin': 'WI',\n",
    "    'Wyoming': 'WY'\n",
    "}"
   ]
  },
  {
   "cell_type": "code",
   "execution_count": null,
   "metadata": {},
   "outputs": [],
   "source": [
    "for i, row in wins_by_state.iterrows():\n",
    "    wins_by_state.loc[i, 'state_code'] = us_state_abbrev[row['state']]\n",
    "\n",
    "wins_by_state['party_class'] = list(map(lambda x: 0 if x == 'republican' else 1, wins_by_state['party']))\n",
    "\n",
    "# wins_by_state['black_female'] = plotdf['BlackFemale']\n",
    "# wins_by_state['black_male'] = plotdf['BlackMale']\n",
    "# wins_by_state['other_female'] = plotdf['OtherFemale']\n",
    "# wins_by_state['other_male'] = plotdf['OtherMale']\n",
    "# wins_by_state['white_female'] = plotdf['WhiteFemale']\n",
    "# wins_by_state['white_male'] = plotdf['WhiteMale']"
   ]
  },
  {
   "cell_type": "code",
   "execution_count": null,
   "metadata": {},
   "outputs": [],
   "source": [
    "wins_by_state"
   ]
  },
  {
   "cell_type": "code",
   "execution_count": null,
   "metadata": {},
   "outputs": [],
   "source": [
    "scl = [[0, '#e74c3c'],[1, '#2980b9']] \n",
    "data_slider = []"
   ]
  },
  {
   "cell_type": "code",
   "execution_count": null,
   "metadata": {},
   "outputs": [],
   "source": [
    "def plot_votes_map(arg):\n",
    "    for year in wins_by_state.year.unique():\n",
    "        df = wins_by_state[(wins_by_state['state'] != 'District of Columbia') & (wins_by_state['year'] == year)]\n",
    "\n",
    "        by_year = dict(\n",
    "            type='choropleth',\n",
    "            locations=df['state_code'],\n",
    "            z=df[arg].astype(float),\n",
    "            locationmode='USA-states',\n",
    "            colorscale=scl,\n",
    "        )\n",
    "\n",
    "        data_slider.append(by_year)\n",
    "    \n",
    "    steps = []\n",
    "    count = 1976\n",
    "\n",
    "    for i in range(len(data_slider)):\n",
    "        step = dict(method='restyle',\n",
    "                    args=['visible', [False] * len(data_slider)],\n",
    "                    label='Year {}'.format(count)) # label to be displayed for each step (year)\n",
    "        step['args'][1][i] = True\n",
    "        steps.append(step)\n",
    "        count += 4\n",
    "\n",
    "    sliders = [dict(active=10, pad={\"t\": 1}, steps=steps)]\n",
    "    \n",
    "    layout = dict(\n",
    "        geo=dict(scope='usa', projection={'type': 'albers usa'}),\n",
    "        sliders=sliders\n",
    "    )\n",
    "    \n",
    "    fig = dict(data=data_slider, layout=layout)\n",
    "    plotly.offline.iplot(fig, show_link=False)"
   ]
  },
  {
   "cell_type": "code",
   "execution_count": null,
   "metadata": {},
   "outputs": [],
   "source": [
    "plot_votes_map('party_class')"
   ]
  },
  {
   "cell_type": "code",
   "execution_count": null,
   "metadata": {},
   "outputs": [],
   "source": []
  },
  {
   "cell_type": "code",
   "execution_count": null,
   "metadata": {},
   "outputs": [],
   "source": []
  },
  {
   "cell_type": "code",
   "execution_count": null,
   "metadata": {},
   "outputs": [],
   "source": []
  },
  {
   "cell_type": "code",
   "execution_count": null,
   "metadata": {},
   "outputs": [],
   "source": []
  },
  {
   "cell_type": "code",
   "execution_count": null,
   "metadata": {},
   "outputs": [],
   "source": []
  },
  {
   "cell_type": "code",
   "execution_count": null,
   "metadata": {},
   "outputs": [],
   "source": []
  }
 ],
 "metadata": {
  "kernelspec": {
   "display_name": "Python 3",
   "language": "python",
   "name": "python3"
  },
  "language_info": {
   "codemirror_mode": {
    "name": "ipython",
    "version": 3
   },
   "file_extension": ".py",
   "mimetype": "text/x-python",
   "name": "python",
   "nbconvert_exporter": "python",
   "pygments_lexer": "ipython3",
   "version": "3.8.6"
  }
 },
 "nbformat": 4,
 "nbformat_minor": 4
}
